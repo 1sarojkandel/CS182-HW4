{
 "cells": [
  {
   "cell_type": "markdown",
   "metadata": {},
   "source": [
    "# CS 182: Artificial Intelligence\n",
    "# Assignment 4: Markov Decision Processes and Reinforcement Learning\n",
    "* Fall 2015\n",
    "* Due: **Monday**, November 2, 11:59pm\n",
    "\n",
    "In this assignment, you will implement sequence decision making algorithms to help Pacman find paths in a maze. \n",
    "Note: We will use the Pacman framework developed at Berkeley. This framework is used worldwide to teach AI, therefore it is very important that you DO NOT publish your solutions online.\n",
    "\n",
    "\n",
    "\n"
   ]
  },
  {
   "cell_type": "markdown",
   "metadata": {},
   "source": [
    "\n"
   ]
  },
  {
   "cell_type": "markdown",
   "metadata": {},
   "source": [
    "\n",
    "## Computational Assignment\n",
    "\n",
    "### Question 1\n",
    "\n",
    "Follow the instructions at:\n",
    "\n",
    "http://ai.berkeley.edu/reinforcement.html\n",
    "\n",
    "The page includes questions requiring implementation of sequential decision making and reinforcement algorithms we studied in class. [The grading scheme described on the Berkley webpage will not be used, but can be used for your own testing for evaluating your performance.]\n",
    "\n",
    "To get the assignment we recommend just cloning this repo:\n",
    "\n",
    "> git clone https://github.com/CS182/HW4.git\n",
    "\n",
    " Solutions should be submitted to the course dropbox folder. Submit only the files `qlearningAgents.py`, `valueIterationAgents.py`,  and `analysis.py`. If you work in a pair, only one student should submit the files, but make sure to include the names of both students at the top of each of the files.\n"
   ]
  },
  {
   "cell_type": "markdown",
   "metadata": {},
   "source": [
    "### Notes:\n",
    "\n",
    "The framework for MDPs and reinforcement learning in this assignment is the same as the one discussed in class. However the reward specification is different than the one given in AIMA. While AIMA provides a helpful guide to this topic, if you want further notes on in the style of the assignment consult the text _Reinforcement Learning_ by Sutton & Barto available free at https://webdocs.cs.ualberta.ca/~sutton/book/ebook/the-book.html. "
   ]
  },
  {
   "cell_type": "markdown",
   "metadata": {},
   "source": [
    "## Written Assignment \n",
    "\n",
    "Answer the following questions individually, and submit as pdf to the dropbox folder. \n",
    "\n",
    "### Question 1\n",
    "\n",
    "\n",
    "### Question 2\n",
    "\n",
    "\n",
    "\n",
    "### Question 3\n",
    "\n",
    "\n",
    "### Question 4\n",
    "\n"
   ]
  }
 ],
 "metadata": {
  "kernelspec": {
   "display_name": "Python 2",
   "language": "python",
   "name": "python2"
  },
  "language_info": {
   "codemirror_mode": {
    "name": "ipython",
    "version": 2
   },
   "file_extension": ".py",
   "mimetype": "text/x-python",
   "name": "python",
   "nbconvert_exporter": "python",
   "pygments_lexer": "ipython2",
   "version": "2.7.9"
  }
 },
 "nbformat": 4,
 "nbformat_minor": 0
}
